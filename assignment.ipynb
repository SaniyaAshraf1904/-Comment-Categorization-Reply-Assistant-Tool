{
  "nbformat": 4,
  "nbformat_minor": 0,
  "metadata": {
    "colab": {
      "provenance": []
    },
    "kernelspec": {
      "name": "python3",
      "display_name": "Python 3"
    },
    "language_info": {
      "name": "python"
    }
  },
  "cells": [
    {
      "cell_type": "code",
      "execution_count": 2,
      "metadata": {
        "colab": {
          "base_uri": "https://localhost:8080/"
        },
        "id": "tOVmbcRODa_Q",
        "outputId": "83a0862c-8e0e-4018-d763-7cebf568f7ca"
      },
      "outputs": [
        {
          "output_type": "stream",
          "name": "stderr",
          "text": [
            "[nltk_data] Downloading package stopwords to /root/nltk_data...\n",
            "[nltk_data]   Unzipping corpora/stopwords.zip.\n"
          ]
        }
      ],
      "source": [
        "#impoting libraries\n",
        "import pandas as pd\n",
        "import re\n",
        "import nltk\n",
        "from nltk.corpus import stopwords\n",
        "from sklearn.model_selection import train_test_split\n",
        "from sklearn.feature_extraction.text import TfidfVectorizer\n",
        "from sklearn.linear_model import LogisticRegression\n",
        "from sklearn.metrics import classification_report, accuracy_score\n",
        "nltk.download(\"stopwords\")\n",
        "stop_words = set(stopwords.words(\"english\"))"
      ]
    },
    {
      "cell_type": "code",
      "source": [
        "train_path=\"/content/train.txt\"\n",
        "test_path=\"/content/test.txt\"\n",
        "val_path=\"/content/val.txt\""
      ],
      "metadata": {
        "id": "hXX4RvJbD6E8"
      },
      "execution_count": 5,
      "outputs": []
    },
    {
      "cell_type": "code",
      "source": [
        "train_df = pd.read_csv(train_path, sep=\";\", header=None, names=[\"text\", \"emotion\"])\n",
        "val_df = pd.read_csv(val_path, sep=\";\", header=None, names=[\"text\", \"emotion\"])\n",
        "test_df = pd.read_csv(test_path, sep=\";\", header=None, names=[\"text\", \"emotion\"])\n",
        "df = pd.concat([train_df, val_df, test_df], ignore_index=True)\n",
        "print(\"Dataset shape:\", df.shape)\n",
        "print(df.head())\n"
      ],
      "metadata": {
        "colab": {
          "base_uri": "https://localhost:8080/"
        },
        "id": "JPHPgaCWENXF",
        "outputId": "c2de989a-9a22-422a-f562-5f7e8afbf375"
      },
      "execution_count": 6,
      "outputs": [
        {
          "output_type": "stream",
          "name": "stdout",
          "text": [
            "Dataset shape: (20000, 2)\n",
            "                                                text  emotion\n",
            "0                            i didnt feel humiliated  sadness\n",
            "1  i can go from feeling so hopeless to so damned...  sadness\n",
            "2   im grabbing a minute to post i feel greedy wrong    anger\n",
            "3  i am ever feeling nostalgic about the fireplac...     love\n",
            "4                               i am feeling grouchy    anger\n"
          ]
        }
      ]
    },
    {
      "cell_type": "code",
      "source": [
        "#emotion assignment\n",
        "mapping = {\n",
        "    \"joy\": \"Praise\",\n",
        "    \"love\": \"Support\",\n",
        "    \"anger\": \"Hate/Abuse\",\n",
        "    \"fear\": \"Threat\",\n",
        "    \"sadness\": \"Emotional\",\n",
        "    \"surprise\": \"Praise\"\n",
        "}\n",
        "df[\"category\"] = df[\"emotion\"].map(mapping)\n",
        "extra_data = {\n",
        "    \"text\": [\n",
        "        \"The animation was okay but the voiceover felt off.\",   # Constructive Criticism\n",
        "        \"Nice effort, but the background music didn’t fit well.\", # Constructive Criticism\n",
        "        \"Follow me for free giveaways!!!\",                      # Irrelevant/Spam\n",
        "        \"Can you explain this with another example?\"             # Question/Suggestion\n",
        "    ],\n",
        "    \"category\": [\n",
        "        \"Constructive Criticism\",\n",
        "        \"Constructive Criticism\",\n",
        "        \"Irrelevant/Spam\",\n",
        "        \"Question/Suggestion\"\n",
        "    ]\n",
        "}\n",
        "\n",
        "extra_df = pd.DataFrame(extra_data)\n",
        "df_final = pd.concat([df, extra_df], ignore_index=True)\n",
        "\n",
        "print(\"Final dataset shape:\", df_final.shape)\n",
        "print(df_final[\"category\"].value_counts())"
      ],
      "metadata": {
        "colab": {
          "base_uri": "https://localhost:8080/"
        },
        "id": "BrhqJIqvFQXO",
        "outputId": "b165cbe3-0430-4710-e7fd-d11f43d7e8f0"
      },
      "execution_count": 7,
      "outputs": [
        {
          "output_type": "stream",
          "name": "stdout",
          "text": [
            "Final dataset shape: (20004, 3)\n",
            "category\n",
            "Praise                    7480\n",
            "Emotional                 5797\n",
            "Hate/Abuse                2709\n",
            "Threat                    2373\n",
            "Support                   1641\n",
            "Constructive Criticism       2\n",
            "Irrelevant/Spam              1\n",
            "Question/Suggestion          1\n",
            "Name: count, dtype: int64\n"
          ]
        }
      ]
    },
    {
      "cell_type": "code",
      "source": [
        "#preprocessing part\n",
        "def preprocess(text):\n",
        "    text = text.lower()\n",
        "    text = re.sub(r\"[^a-z\\s]\", \"\", text)  # remove punctuation/numbers\n",
        "    text = \" \".join([word for word in text.split() if word not in stop_words])\n",
        "    return text\n",
        "\n",
        "df_final[\"clean_text\"] = df_final[\"text\"].apply(preprocess)\n"
      ],
      "metadata": {
        "id": "sLlJcqSyFmQm"
      },
      "execution_count": 8,
      "outputs": []
    },
    {
      "cell_type": "code",
      "source": [
        "X = df_final[\"clean_text\"]\n",
        "y = df_final[\"category\"]\n",
        "X_train, X_test, y_train, y_test = train_test_split( X, y, test_size=0.2, random_state=42)\n",
        "vectorizer = TfidfVectorizer(max_features=5000)\n",
        "X_train_vec = vectorizer.fit_transform(X_train)\n",
        "X_test_vec = vectorizer.transform(X_test)\n"
      ],
      "metadata": {
        "id": "1Q7PHujIFuzF"
      },
      "execution_count": 12,
      "outputs": []
    },
    {
      "cell_type": "code",
      "source": [
        "#classifier used= Logotsic Regression\n",
        "model = LogisticRegression(max_iter=300)\n",
        "model.fit(X_train_vec, y_train)\n",
        "y_pred = model.predict(X_test_vec)\n",
        "print(\"Model Accuracy:\", accuracy_score(y_test, y_pred))\n",
        "print(classification_report(y_test, y_pred))\n",
        "sample_comments = [\n",
        "    \"Amazing work! Loved the animation.\",         # Praise\n",
        "    \"Keep going, you're doing great!\",            # Support\n",
        "    \"This is trash, quit now.\",                   # Hate/Abuse\n",
        "    \"I'll report you if this continues.\",         # Threat\n",
        "    \"This reminded me of my childhood.\",          # Emotional\n",
        "    \"Follow me for followers!\",                   # Spam\n",
        "    \"The video was good, but the sound was poor.\",# Constructive Criticism\n",
        "    \"Can you make one on topic X?\"                # Question\n",
        "]\n",
        "\n",
        "sample_clean = [preprocess(c) for c in sample_comments]\n",
        "sample_vec = vectorizer.transform(sample_clean)\n",
        "predictions = model.predict(sample_vec)\n"
      ],
      "metadata": {
        "colab": {
          "base_uri": "https://localhost:8080/"
        },
        "id": "ued1PMZkF0O9",
        "outputId": "5514e5f8-7b57-4c3b-ad68-e0ae8ebe1489"
      },
      "execution_count": 13,
      "outputs": [
        {
          "output_type": "stream",
          "name": "stdout",
          "text": [
            "Model Accuracy: 0.8880279930017496\n",
            "                 precision    recall  f1-score   support\n",
            "\n",
            "      Emotional       0.92      0.94      0.93      1173\n",
            "     Hate/Abuse       0.94      0.82      0.87       565\n",
            "Irrelevant/Spam       0.00      0.00      0.00         1\n",
            "         Praise       0.85      0.96      0.90      1492\n",
            "        Support       0.89      0.70      0.78       321\n",
            "         Threat       0.89      0.72      0.80       449\n",
            "\n",
            "       accuracy                           0.89      4001\n",
            "      macro avg       0.75      0.69      0.71      4001\n",
            "   weighted avg       0.89      0.89      0.89      4001\n",
            "\n"
          ]
        },
        {
          "output_type": "stream",
          "name": "stderr",
          "text": [
            "/usr/local/lib/python3.12/dist-packages/sklearn/metrics/_classification.py:1565: UndefinedMetricWarning: Precision is ill-defined and being set to 0.0 in labels with no predicted samples. Use `zero_division` parameter to control this behavior.\n",
            "  _warn_prf(average, modifier, f\"{metric.capitalize()} is\", len(result))\n",
            "/usr/local/lib/python3.12/dist-packages/sklearn/metrics/_classification.py:1565: UndefinedMetricWarning: Precision is ill-defined and being set to 0.0 in labels with no predicted samples. Use `zero_division` parameter to control this behavior.\n",
            "  _warn_prf(average, modifier, f\"{metric.capitalize()} is\", len(result))\n",
            "/usr/local/lib/python3.12/dist-packages/sklearn/metrics/_classification.py:1565: UndefinedMetricWarning: Precision is ill-defined and being set to 0.0 in labels with no predicted samples. Use `zero_division` parameter to control this behavior.\n",
            "  _warn_prf(average, modifier, f\"{metric.capitalize()} is\", len(result))\n"
          ]
        }
      ]
    },
    {
      "cell_type": "code",
      "source": [
        "reply_templates = {\n",
        "    \"Praise\": \"Thank you for your kind words! We appreciate your support.\",\n",
        "    \"Support\": \"Your encouragement means a lot to us. We’ll keep going!\",\n",
        "    \"Constructive Criticism\": \"Thanks for your feedback! We’ll work on improving.\",\n",
        "    \"Hate/Abuse\": \"We strive for respectful communication. Please be constructive.\",\n",
        "    \"Threat\": \"Your concern has been noted. We will escalate this appropriately.\",\n",
        "    \"Emotional\": \"We’re glad our content connected with you emotionally.\",\n",
        "    \"Irrelevant/Spam\": \"This comment seems unrelated. Let’s stay on topic.\",\n",
        "    \"Question/Suggestion\": \"Great question! We’ll consider this in future updates.\"\n",
        "}\n",
        "for comment, label in zip(sample_comments, predictions):\n",
        "    print(f\"\\nComment: {comment}\")\n",
        "    print(f\"Predicted Category: {label}\")\n",
        "    print(\"Suggested Reply:\", reply_templates.get(label, \"\"))"
      ],
      "metadata": {
        "colab": {
          "base_uri": "https://localhost:8080/"
        },
        "id": "1Mhyl3nTGPZ9",
        "outputId": "c063d12d-0403-4121-e5be-4a02100d256e"
      },
      "execution_count": 15,
      "outputs": [
        {
          "output_type": "stream",
          "name": "stdout",
          "text": [
            "\n",
            "Comment: Amazing work! Loved the animation.\n",
            "Predicted Category: Praise\n",
            "Suggested Reply: Thank you for your kind words! We appreciate your support.\n",
            "\n",
            "Comment: Keep going, you're doing great!\n",
            "Predicted Category: Praise\n",
            "Suggested Reply: Thank you for your kind words! We appreciate your support.\n",
            "\n",
            "Comment: This is trash, quit now.\n",
            "Predicted Category: Emotional\n",
            "Suggested Reply: We’re glad our content connected with you emotionally.\n",
            "\n",
            "Comment: I'll report you if this continues.\n",
            "Predicted Category: Emotional\n",
            "Suggested Reply: We’re glad our content connected with you emotionally.\n",
            "\n",
            "Comment: This reminded me of my childhood.\n",
            "Predicted Category: Emotional\n",
            "Suggested Reply: We’re glad our content connected with you emotionally.\n",
            "\n",
            "Comment: Follow me for followers!\n",
            "Predicted Category: Praise\n",
            "Suggested Reply: Thank you for your kind words! We appreciate your support.\n",
            "\n",
            "Comment: The video was good, but the sound was poor.\n",
            "Predicted Category: Praise\n",
            "Suggested Reply: Thank you for your kind words! We appreciate your support.\n",
            "\n",
            "Comment: Can you make one on topic X?\n",
            "Predicted Category: Praise\n",
            "Suggested Reply: Thank you for your kind words! We appreciate your support.\n"
          ]
        }
      ]
    },
    {
      "cell_type": "code",
      "source": [
        "def predict_comment(comment):\n",
        "    # Preprocess\n",
        "    clean = preprocess(comment)\n",
        "    vec = vectorizer.transform([clean])\n",
        "    pred = model.predict(vec)[0]\n",
        "    reply = reply_templates.get(pred, \"No reply available.\")\n",
        "    return pred, reply\n",
        "\n",
        "# Real-time loop\n",
        "print(\"💬 Comment Categorization & Reply Assistant Tool (type 'exit' to stop)\\n\")\n",
        "while True:\n",
        "    user_input = input(\"Enter a comment: \")\n",
        "    if user_input.lower() == \"exit\":\n",
        "        break\n",
        "    category, reply = predict_comment(user_input)\n",
        "    print(f\"Predicted Category: {category}\")\n",
        "    print(f\"Suggested Reply: {reply}\\n\")\n"
      ],
      "metadata": {
        "colab": {
          "base_uri": "https://localhost:8080/"
        },
        "id": "0X2Ekp86GUnV",
        "outputId": "5b061114-21c1-4aad-e819-d3f9d5e68e1f"
      },
      "execution_count": 16,
      "outputs": [
        {
          "name": "stdout",
          "output_type": "stream",
          "text": [
            "💬 Comment Categorization & Reply Assistant Tool (type 'exit' to stop)\n",
            "\n",
            "Enter a comment: Hey this project seems cool!\n",
            "Predicted Category: Praise\n",
            "Suggested Reply: Thank you for your kind words! We appreciate your support.\n",
            "\n",
            "Enter a comment: exit\n"
          ]
        }
      ]
    },
    {
      "cell_type": "code",
      "source": [],
      "metadata": {
        "id": "8_Y8A-KlJz5-"
      },
      "execution_count": null,
      "outputs": []
    }
  ]
}